{
 "cells": [
  {
   "cell_type": "markdown",
   "metadata": {},
   "source": [
    "# **Finding Lane Lines on the Road** \n",
    "***\n",
    "In this project, you will use the tools you learned about in the lesson to identify lane lines on the road.  You can develop your pipeline on a series of individual images, and later apply the result to a video stream (really just a series of images). Check out the video clip \"raw-lines-example.mp4\" (also contained in this repository) to see what the output should look like after using the helper functions below. \n",
    "\n",
    "Once you have a result that looks roughly like \"raw-lines-example.mp4\", you'll need to get creative and try to average and/or extrapolate the line segments you've detected to map out the full extent of the lane lines.  You can see an example of the result you're going for in the video \"P1_example.mp4\".  Ultimately, you would like to draw just one line for the left side of the lane, and one for the right.\n",
    "\n",
    "---\n",
    "Let's have a look at our first image called 'test_images/solidWhiteRight.jpg'.  Run the 2 cells below (hit Shift-Enter or the \"play\" button above) to display the image.\n",
    "\n",
    "**Note** If, at any point, you encounter frozen display windows or other confounding issues, you can always start again with a clean slate by going to the \"Kernel\" menu above and selecting \"Restart & Clear Output\".\n",
    "\n",
    "---"
   ]
  },
  {
   "cell_type": "markdown",
   "metadata": {},
   "source": [
    "**The tools you have are color selection, region of interest selection, grayscaling, Gaussian smoothing, Canny Edge Detection and Hough Tranform line detection.  You  are also free to explore and try other techniques that were not presented in the lesson.  Your goal is piece together a pipeline to detect the line segments in the image, then average/extrapolate them and draw them onto the image for display (as below).  Once you have a working pipeline, try it out on the video stream below.**\n",
    "\n",
    "---\n",
    "\n",
    "<figure>\n",
    " <img src=\"line-segments-example.jpg\" width=\"380\" alt=\"Combined Image\" />\n",
    " <figcaption>\n",
    " <p></p> \n",
    " <p style=\"text-align: center;\"> Your output should look something like this (above) after detecting line segments using the helper functions below </p> \n",
    " </figcaption>\n",
    "</figure>\n",
    " <p></p> \n",
    "<figure>\n",
    " <img src=\"laneLines_thirdPass.jpg\" width=\"380\" alt=\"Combined Image\" />\n",
    " <figcaption>\n",
    " <p></p> \n",
    " <p style=\"text-align: center;\"> Your goal is to connect/average/extrapolate line segments to get output like this</p> \n",
    " </figcaption>\n",
    "</figure>"
   ]
  },
  {
   "cell_type": "code",
   "execution_count": null,
   "metadata": {
    "collapsed": false
   },
   "outputs": [],
   "source": [
    "#importing some useful packages\n",
    "import matplotlib.pyplot as plt\n",
    "import matplotlib.image as mpimg\n",
    "import numpy as np\n",
    "import cv2\n",
    "import math\n",
    "%matplotlib inline"
   ]
  },
  {
   "cell_type": "code",
   "execution_count": null,
   "metadata": {
    "collapsed": false
   },
   "outputs": [],
   "source": [
    "#reading in an image\n",
    "image = mpimg.imread('test_images/solidWhiteRight.jpg')\n",
    "#printing out some stats and plotting\n",
    "print('This image is:', type(image), 'with dimesions:', image.shape)\n",
    "plt.imshow(image)  #call as plt.imshow(gray, cmap='gray') to show a grayscaled image"
   ]
  },
  {
   "cell_type": "markdown",
   "metadata": {},
   "source": [
    "**Some OpenCV functions (beyond those introduced in the lesson) that might be useful for this project are:**\n",
    "\n",
    "`cv2.inRange()` for color selection  \n",
    "`cv2.fillPoly()` for regions selection  \n",
    "`cv2.line()` to draw lines on an image given endpoints  \n",
    "`cv2.addWeighted()` to coadd / overlay two images\n",
    "`cv2.cvtColor()` to grayscale or change color\n",
    "`cv2.imwrite()` to output images to file  \n",
    "`cv2.bitwise_and()` to apply a mask to an image\n",
    "\n",
    "**Check out the OpenCV documentation to learn about these and discover even more awesome functionality!**"
   ]
  },
  {
   "cell_type": "markdown",
   "metadata": {},
   "source": [
    "Below are some helper functions to help get you started. They should look familiar from the lesson!"
   ]
  },
  {
   "cell_type": "code",
   "execution_count": null,
   "metadata": {
    "collapsed": true
   },
   "outputs": [],
   "source": [
    "import math\n",
    "\n",
    "def grayscale(img):\n",
    "    \"\"\"Applies the Grayscale transform\n",
    "    This will return an image with only one color channel\n",
    "    but NOTE: to see the returned image as grayscale\n",
    "    you should call plt.imshow(gray, cmap='gray')\"\"\"\n",
    "    return cv2.cvtColor(img, cv2.COLOR_BGR2GRAY)\n",
    "    \n",
    "def canny(img, low_threshold, high_threshold):\n",
    "    \"\"\"Applies the Canny transform\"\"\"\n",
    "    return cv2.Canny(img, low_threshold, high_threshold)\n",
    "\n",
    "def gaussian_blur(img, kernel_size):\n",
    "    \"\"\"Applies a Gaussian Noise kernel\"\"\"\n",
    "    return cv2.GaussianBlur(img, (kernel_size, kernel_size), 0)\n",
    "\n",
    "def region_of_interest(img, vertices):\n",
    "    \"\"\"\n",
    "    Applies an image mask.\n",
    "    \n",
    "    Only keeps the region of the image defined by the polygon\n",
    "    formed from `vertices`. The rest of the image is set to black.\n",
    "    \"\"\"\n",
    "    #defining a blank mask to start with\n",
    "    mask = np.zeros_like(img)   \n",
    "    \n",
    "    #defining a 3 channel or 1 channel color to fill the mask with depending on the input image\n",
    "    if len(img.shape) > 2:\n",
    "        channel_count = img.shape[2]  # i.e. 3 or 4 depending on your image\n",
    "        ignore_mask_color = (255,) * channel_count\n",
    "    else:\n",
    "        ignore_mask_color = 255\n",
    "        \n",
    "    #filling pixels inside the polygon defined by \"vertices\" with the fill color    \n",
    "    cv2.fillPoly(mask, vertices, ignore_mask_color)\n",
    "    \n",
    "    #returning the image only where mask pixels are nonzero\n",
    "    masked_image = cv2.bitwise_and(img, mask)\n",
    "    return masked_image"
   ]
  },
  {
   "cell_type": "code",
   "execution_count": null,
   "metadata": {
    "collapsed": true
   },
   "outputs": [],
   "source": [
    "def draw_lines0(img, lines, color=[255, 0, 0], thickness=2):\n",
    "    \"\"\"\n",
    "    NOTE: this is the function you might want to use as a starting point once you want to \n",
    "    average/extrapolate the line segments you detect to map out the full\n",
    "    extent of the lane (going from the result shown in raw-lines-example.mp4\n",
    "    to that shown in P1_example.mp4).  \n",
    "    \n",
    "    Think about things like separating line segments by their \n",
    "    slope ((y2-y1)/(x2-x1)) to decide which segments are part of the left\n",
    "    line vs. the right line.  Then, you can average the position of each of \n",
    "    the lines and extrapolate to the top and bottom of the lane.\n",
    "    \n",
    "    This function draws `lines` with `color` and `thickness`.    \n",
    "    Lines are drawn on the image inplace (mutates the image).\n",
    "    If you want to make the lines semi-transparent, think about combining\n",
    "    this function with the weighted_img() function below\n",
    "    \"\"\"\n",
    "    for line in lines:\n",
    "        for x1,y1,x2,y2 in line:\n",
    "            cv2.line(img, (x1, y1), (x2, y2), color, thickness)\n",
    "\n",
    "\"\"\" #-------------------------------------------------------------------\n",
    "P161206_2354_HoughTransfExtra.py\n",
    "Created on Tue Dec  6 23:55:07 2016\n",
    "@author: mo\n",
    "\"\"\" #-------------------------------------------------------------------\n",
    "\n",
    "def draw_lines(img, lines, color=[255, 0, 0], thickness=8):\n",
    "    \"\"\"\n",
    "    GOAL:\n",
    "        * extrapoler les lignes \n",
    "    SPEUDO CODE:\n",
    "        * [tbc] store middle point of each line\n",
    "        * identify lines: laneRight and laneRight\n",
    "        * sort lineR and lineL\n",
    "        * plot splineR and splineL\n",
    "    TACTIC:\n",
    "        * 1st, make a POC \"draw a spline from a set of point\"\n",
    "    DOCU:   \n",
    "        * np.polyfit(p1,p2) : A.X + B\n",
    "    \"\"\"\n",
    "    laneRight = [];\n",
    "    laneLeft = [];\n",
    "    yRmax = 0 ;\n",
    "    yLmax = 0 ;\n",
    "    listR0 = [];\n",
    "    listL0 = [];\n",
    "    for line in lines:\n",
    "        for x1,y1,x2,y2 in line:\n",
    "            # identify lines: lineR and lineL\n",
    "            #   compute delta\n",
    "            try:\n",
    "                delta = (y2-y1)/(x2-x1);\n",
    "            except ZeroDivisionError:\n",
    "                print('Can''t divide by zero');\n",
    "                delta = 0;\n",
    "            finally:\n",
    "            #   if delta > 0, then add line to laneLeft\n",
    "                if delta > 0:\n",
    "                    laneLeft.append([(x1,y1),(x2,y2)]);\n",
    "                    if yLmax < y1:\n",
    "                        yLmax = y1;\n",
    "                        listL0 = [x1,y1,x2,y2,'L',delta,1];\n",
    "                    elif yLmax < y2:\n",
    "                        yLmax = y2;\n",
    "                        listL0 = [x1,y1,x2,y2,'L',delta,2];\n",
    "            #   if delta < 0, then add line to laneRight\n",
    "                elif delta < 0:\n",
    "                    laneRight.append([(x1,y1),(x2,y2)]);\n",
    "                    if yRmax < y1:\n",
    "                        yRmax = y1;\n",
    "                        listR0 = [x1,y1,x2,y2,'R',delta,1];\n",
    "                    elif yRmax < y2:\n",
    "                        yRmax = y2;\n",
    "                        listR0 = [x1,y1,x2,y2,'R',delta,2];\n",
    "\n",
    "    # sort laneRight and laneLeft\n",
    "    laneLeft.sort();\n",
    "    laneRight.reverse();\n",
    "\n",
    "    # fill gap by adding new lines to the laneLeft\n",
    "    laneLeft1 = [];\n",
    "    i = 0;\n",
    "    for line in laneLeft:\n",
    "        laneLeft1.append(line);\n",
    "        #insert the missing line\n",
    "        i += 1;\n",
    "        if i < len(laneLeft):\n",
    "            laneLeft1.append([line[1],laneLeft[i][0]]);\n",
    "    # fill gap by adding new lines to the laneRight\n",
    "    laneRight1 = [];\n",
    "    i = 0;\n",
    "    for line in laneRight:\n",
    "        laneRight1.append(line);\n",
    "        #insert the missing line\n",
    "        i += 1;\n",
    "        if i < len(laneRight):\n",
    "            laneRight1.append([line[1],laneRight[i][0]]); \n",
    "    \n",
    "    # add the missing line from the laneX and the bottom of the image\n",
    "    #   retrieve LyMax and RyMax \n",
    "    if listL0[6] == 1:\n",
    "        LyMax = listL0[1];\n",
    "        LxMax = listL0[0];\n",
    "        print('LyMax =', LyMax); \n",
    "        print('listL0[6] =',listL0[6])\n",
    "    elif listL0[6] == 2:\n",
    "        LyMax = listL0[3];\n",
    "        LxMax = listL0[2];\n",
    "    if listR0[6] == 1:\n",
    "        RyMax = listR0[1];\n",
    "        RxMax = listR0[0];\n",
    "    elif listR0[6] == 2:\n",
    "        RyMax = listR0[3];\n",
    "        RxMax = listR0[2];\n",
    "    #   cas 1: LyMax > RyMax (Left lane)\n",
    "    if LyMax > RyMax:\n",
    "        B  = listR0[1] - listR0[5]*listR0[0];\n",
    "        pRx = int((LyMax - B)/listR0[5]);\n",
    "        pRy = LyMax;\n",
    "        line2add = [(RxMax,RyMax),(pRx,pRy)];\n",
    "        laneRight1.append(line2add);\n",
    "    #   cas 2: LyMax < RyMax (Right lane)\n",
    "    elif LyMax < RyMax: \n",
    "        B  = listL0[1] - listL0[5]*listL0[0];\n",
    "        pLx = int((RyMax - B)/listL0[5]);\n",
    "        pLy = RyMax;\n",
    "        line2add = [(LxMax,LyMax),(pLx,pLy)];\n",
    "        laneLeft1.append(line2add);\n",
    "        \n",
    "    # plot splineR and splineL\n",
    "    #   fill gap by adding new lines\n",
    "    for line in laneLeft1:\n",
    "        cv2.line(img, line[0], line[1], color, thickness);\n",
    "    for line in laneRight1:\n",
    "        cv2.line(img, line[0], line[1], color, thickness);   "
   ]
  },
  {
   "cell_type": "code",
   "execution_count": null,
   "metadata": {
    "collapsed": true
   },
   "outputs": [],
   "source": [
    "def hough_lines(img, rho, theta, threshold, min_line_len, max_line_gap):\n",
    "    \"\"\"\n",
    "    `img` should be the output of a Canny transform.\n",
    "        \n",
    "    Returns an image with hough lines drawn.\n",
    "    \"\"\"\n",
    "    lines = cv2.HoughLinesP(img, rho, theta, threshold, np.array([]), minLineLength=min_line_len, maxLineGap=max_line_gap)\n",
    "    line_img = np.zeros((*img.shape, 3), dtype=np.uint8)\n",
    "    draw_lines(line_img, lines)\n",
    "    return line_img\n",
    "\n",
    "# Python 3 has support for cool math symbols.\n",
    "\n",
    "def weighted_img(img, initial_img, α=0.8, β=1., λ=0.):\n",
    "    \"\"\"\n",
    "    `img` is the output of the hough_lines(), An image with lines drawn on it.\n",
    "    Should be a blank image (all black) with lines drawn on it.\n",
    "    \n",
    "    `initial_img` should be the image before any processing.\n",
    "    \n",
    "    The result image is computed as follows:\n",
    "    \n",
    "    initial_img * α + img * β + λ\n",
    "    NOTE: initial_img and img must be the same shape!\n",
    "    \"\"\"\n",
    "    return cv2.addWeighted(initial_img, α, img, β, λ)"
   ]
  },
  {
   "cell_type": "code",
   "execution_count": null,
   "metadata": {
    "collapsed": true
   },
   "outputs": [],
   "source": [
    "# ---------------------------------------------------------------------------    \n",
    "# STEP 1.1 - Finding Lane Lines / IMAGE\n",
    "# ---------------------------------------------------------------------------  \n",
    "def FindingLaneLinesImg(image):\n",
    "    #Convert to grayscale\n",
    "    gray = grayscale(image);\n",
    "\n",
    "    #Suppress noise and spurious gradients (Gaussian smoothing)\n",
    "    # Define a kernel size and apply Gaussian smoothing\n",
    "    blur_gray = gaussian_blur(gray,5);\n",
    "    \n",
    "    #Identify the edges with the Canny fct\n",
    "    edges = canny(blur_gray, 50, 150);\n",
    "\n",
    "    #Define a four sided polygon to mask\n",
    "    imshape = image.shape\n",
    "    vertices = np.array([[(0,imshape[0]),(450, 320), (490, 320),\\\n",
    "                           (imshape[1],imshape[0])]], dtype=np.int32);\n",
    "\n",
    "    #Create a masked edges image using cv2.fillPoly()\n",
    "    masked_edges = region_of_interest(edges, vertices);\n",
    "       \n",
    "    #Hough transform\n",
    "    hough_lines0 = hough_lines(masked_edges, 2, np.pi/180, 15, 40, 20)\n",
    "\n",
    "    #Draw the lines on the edge image\n",
    "    weighted_img0 = weighted_img(hough_lines0, image, α=0.8, β=1., λ=0.)\n",
    "\n",
    "    #return gray;\n",
    "    #return blur_gray;\n",
    "    #return edges;\n",
    "    #return masked_edges;\n",
    "    #return hough_lines0;\n",
    "    return weighted_img0;"
   ]
  },
  {
   "cell_type": "markdown",
   "metadata": {},
   "source": [
    "## Test on Images\n",
    "\n",
    "Now you should build your pipeline to work on the images in the directory \"test_images\"  \n",
    "**You should make sure your pipeline works well on these images before you try the videos.**"
   ]
  },
  {
   "cell_type": "code",
   "execution_count": null,
   "metadata": {
    "collapsed": false
   },
   "outputs": [],
   "source": [
    "# ---------------------------------------------------------------------------    \n",
    "# STEP 1.2 - TEST : Finding Lane Lines / IMAGE\n",
    "# ---------------------------------------------------------------------------  \n",
    "import os\n",
    "imgName = os.listdir('/home/linus/CarND-LaneLines-P1/test_images/')\n",
    "\n",
    "for i0 in imgName:\n",
    "    image = mpimg.imread('/home/linus/CarND-LaneLines-P1/test_images/'+str(i0));\n",
    "    plt.figure(i0);\n",
    "    plt.imshow(FindingLaneLinesImg(image));\n"
   ]
  },
  {
   "cell_type": "markdown",
   "metadata": {},
   "source": [
    "run your solution on all test_images and make copies into the test_images directory)."
   ]
  },
  {
   "cell_type": "markdown",
   "metadata": {},
   "source": [
    "## Test on Videos\n",
    "\n",
    "You know what's cooler than drawing lanes over images? Drawing lanes over video!\n",
    "\n",
    "We can test our solution on two provided videos:\n",
    "\n",
    "`solidWhiteRight.mp4`\n",
    "\n",
    "`solidYellowLeft.mp4`"
   ]
  },
  {
   "cell_type": "code",
   "execution_count": null,
   "metadata": {
    "collapsed": true
   },
   "outputs": [],
   "source": [
    "# Import everything needed to edit/save/watch video clips\n",
    "from moviepy.editor import VideoFileClip\n",
    "from IPython.display import HTML"
   ]
  },
  {
   "cell_type": "code",
   "execution_count": null,
   "metadata": {
    "collapsed": true
   },
   "outputs": [],
   "source": [
    "def process_image(image):\n",
    "    # NOTE: The output you return should be a color image (3 channel) for processing video below\n",
    "    # TODO: put your pipeline here,\n",
    "    # you should return the final output (image with lines are drawn on lanes)\n",
    "    #Import packages\n",
    "    result = FindingLaneLinesImg(image)\n",
    "       \n",
    "    return result"
   ]
  },
  {
   "cell_type": "markdown",
   "metadata": {},
   "source": [
    "Let's try the one with the solid white lane on the right first ..."
   ]
  },
  {
   "cell_type": "code",
   "execution_count": null,
   "metadata": {
    "collapsed": false,
    "scrolled": true
   },
   "outputs": [],
   "source": [
    "white_output = \"white.mp4\"\n",
    "clip1 = VideoFileClip(\"solidWhiteRight.mp4\")\n",
    "white_clip = clip1.fl_image(process_image) #NOTE: this function expects color images!!\n",
    "%time white_clip.write_videofile(white_output, audio=False)"
   ]
  },
  {
   "cell_type": "markdown",
   "metadata": {},
   "source": [
    "Play the video inline, or if you prefer find the video in your filesystem (should be in the same directory) and play it in your video player of choice."
   ]
  },
  {
   "cell_type": "code",
   "execution_count": null,
   "metadata": {
    "collapsed": false
   },
   "outputs": [],
   "source": [
    "HTML(\"\"\"\n",
    "<video width=\"960\" height=\"540\" controls>\n",
    "  <source src=\"{0}\">\n",
    "</video>\n",
    "\"\"\".format(white_output))"
   ]
  },
  {
   "cell_type": "markdown",
   "metadata": {},
   "source": [
    "**At this point, if you were successful you probably have the Hough line segments drawn onto the road, but what about identifying the full extent of the lane and marking it clearly as in the example video (P1_example.mp4)?  Think about defining a line to run the full length of the visible lane based on the line segments you identified with the Hough Transform.  Modify your draw_lines function accordingly and try re-running your pipeline.**"
   ]
  },
  {
   "cell_type": "markdown",
   "metadata": {},
   "source": [
    "Now for the one with the solid yellow lane on the left. This one's more tricky!"
   ]
  },
  {
   "cell_type": "code",
   "execution_count": null,
   "metadata": {
    "collapsed": false
   },
   "outputs": [],
   "source": [
    "yellow_output = 'yellow.mp4'\n",
    "clip2 = VideoFileClip('solidYellowLeft.mp4')\n",
    "yellow_clip = clip2.fl_image(process_image)\n",
    "%time yellow_clip.write_videofile(yellow_output, audio=False)"
   ]
  },
  {
   "cell_type": "code",
   "execution_count": null,
   "metadata": {
    "collapsed": false
   },
   "outputs": [],
   "source": [
    "HTML(\"\"\"\n",
    "<video width=\"960\" height=\"540\" controls>\n",
    "  <source src=\"{0}\">\n",
    "</video>\n",
    "\"\"\".format(yellow_output))"
   ]
  },
  {
   "cell_type": "markdown",
   "metadata": {},
   "source": [
    "## Reflections\n",
    "\n",
    "Congratulations on finding the lane lines!  As the final step in this project, we would like you to share your thoughts on your lane finding pipeline... specifically, how could you imagine making your algorithm better / more robust?  Where will your current algorithm be likely to fail?\n",
    "\n",
    "Please add your thoughts below,  and if you're up for making your pipeline more robust, be sure to scroll down and check out the optional challenge video below!\n"
   ]
  },
  {
   "cell_type": "markdown",
   "metadata": {},
   "source": [
    "# 161209-1158:\n",
    "\n",
    "I don't see myself sitting over there. I have the feeling that I have too much gaps in my skills and knowloedges for this course. It took me too much hours to get a poor result at the end. It is not a problem because I am learning a lot and a fast pace from where I started.\n",
    "\n",
    "When I review the Param Aggarwal's feedbacks about what we learnt, I am impressed about the hindsight he has developed. I am not yet at that point. I hope I will be soon there."
   ]
  },
  {
   "cell_type": "markdown",
   "metadata": {},
   "source": [
    "## Submission\n",
    "\n",
    "If you're satisfied with your video outputs it's time to submit!  Submit this ipython notebook for review.\n"
   ]
  },
  {
   "cell_type": "markdown",
   "metadata": {
    "collapsed": true
   },
   "source": [
    "## Optional Challenge\n",
    "\n",
    "Try your lane finding pipeline on the video below.  Does it still work?  Can you figure out a way to make it more robust?  If you're up for the challenge, modify your pipeline so it works with this video and submit it along with the rest of your project!"
   ]
  },
  {
   "cell_type": "code",
   "execution_count": null,
   "metadata": {
    "collapsed": true
   },
   "outputs": [],
   "source": [
    "challenge_output = 'extra.mp4'\n",
    "clip2 = VideoFileClip('challenge.mp4')\n",
    "challenge_clip = clip2.fl_image(process_image)\n",
    "%time challenge_clip.write_videofile(challenge_output, audio=False)"
   ]
  },
  {
   "cell_type": "code",
   "execution_count": null,
   "metadata": {
    "collapsed": true
   },
   "outputs": [],
   "source": [
    "HTML(\"\"\"\n",
    "<video width=\"960\" height=\"540\" controls>\n",
    "  <source src=\"{0}\">\n",
    "</video>\n",
    "\"\"\".format(challenge_output))"
   ]
  }
 ],
 "metadata": {
  "anaconda-cloud": {},
  "kernelspec": {
   "display_name": "Python [conda root]",
   "language": "python",
   "name": "conda-root-py"
  },
  "language_info": {
   "codemirror_mode": {
    "name": "ipython",
    "version": 3
   },
   "file_extension": ".py",
   "mimetype": "text/x-python",
   "name": "python",
   "nbconvert_exporter": "python",
   "pygments_lexer": "ipython3",
   "version": "3.5.2"
  }
 },
 "nbformat": 4,
 "nbformat_minor": 0
}
